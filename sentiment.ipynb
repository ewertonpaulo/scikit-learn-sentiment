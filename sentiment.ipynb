{
 "cells": [
  {
   "cell_type": "code",
   "execution_count": 1,
   "metadata": {},
   "outputs": [],
   "source": [
    "from sklearn.feature_extraction.text import CountVectorizer"
   ]
  },
  {
   "cell_type": "code",
   "execution_count": 32,
   "metadata": {},
   "outputs": [],
   "source": [
    "data = []\n",
    "data_labels = []\n",
    "with open(\"./data/pos_tweets.txt\", encoding=\"utf8\") as f:\n",
    "    for i in f:\n",
    "        data.append(i)\n",
    "        data_labels.append('pos')\n",
    "        \n",
    "with open(\"./data/neg_tweets.txt\", encoding=\"utf8\") as f:\n",
    "    for i in f:\n",
    "        data.append(i)\n",
    "        data_labels.append('neg')"
   ]
  },
  {
   "cell_type": "code",
   "execution_count": 3,
   "metadata": {},
   "outputs": [
    {
     "name": "stdout",
     "output_type": "stream",
     "text": [
      "pos\n"
     ]
    }
   ],
   "source": [
    "print(data_labels[0])"
   ]
  },
  {
   "cell_type": "code",
   "execution_count": 4,
   "metadata": {},
   "outputs": [],
   "source": [
    "vectorizer = CountVectorizer(\n",
    "    analyzer = 'word',\n",
    "    lowercase= False,\n",
    ")\n",
    "features = vectorizer.fit_transform(\n",
    "    data\n",
    ")\n",
    "features_nd = features.toarray() # for easy usage"
   ]
  },
  {
   "cell_type": "code",
   "execution_count": 13,
   "metadata": {},
   "outputs": [],
   "source": [
    "from sklearn.model_selection import train_test_split\n",
    "\n",
    "X_train, X_test, y_train, y_test = train_test_split(\n",
    "    features_nd,\n",
    "    data_labels,\n",
    "    #train_size=0.80,\n",
    "    random_state=1234\n",
    ")"
   ]
  },
  {
   "cell_type": "code",
   "execution_count": 14,
   "metadata": {},
   "outputs": [],
   "source": [
    "from sklearn.linear_model import LogisticRegression\n",
    "log_model = LogisticRegression()"
   ]
  },
  {
   "cell_type": "code",
   "execution_count": 15,
   "metadata": {},
   "outputs": [],
   "source": [
    "log_model = log_model.fit(X=X_train, y=y_train)"
   ]
  },
  {
   "cell_type": "code",
   "execution_count": 16,
   "metadata": {},
   "outputs": [
    {
     "name": "stdout",
     "output_type": "stream",
     "text": [
      "501 2004\n"
     ]
    }
   ],
   "source": [
    "y_pred = log_model.predict(X_test)"
   ]
  },
  {
   "cell_type": "code",
   "execution_count": 22,
   "metadata": {},
   "outputs": [
    {
     "name": "stdout",
     "output_type": "stream",
     "text": [
      "neg\n",
      "\"@StarChile.....ahhh.....alright. Thanks. Congrat's on your team's win today \"\n",
      "neg\n",
      "\"iPhone won't update yet, can't seem to get to the 'activation-server', and the 'More info' button shows a 404.. great \"\n",
      "neg\n",
      "\"@ravensymone hayy! big fan love your music and your show !! \"\n",
      "neg\n",
      "\"why this headache still here??? \"\n",
      "neg\n",
      "\"@hyperbets i hope this doesn't last too long.  i feel miserable!\"\n",
      "neg\n",
      "\"The iPhone 3GS does not successfully repel fingerprints or smudges. I should have gotten a guard. \"\n",
      "neg\n",
      "\"@JTalk100 Hope your headache stop soon.I'm about 2 die....  I miss MaryJane so much. That was my boo! Lol\"\n"
     ]
    }
   ],
   "source": [
    "import random\n",
    "j = random.randint(0,len(X_test)-7)\n",
    "for i in range(j,j+7):\n",
    "    print(y_pred[0])\n",
    "    ind = features_nd.tolist().index(X_test[i].tolist())\n",
    "    print(data[ind].strip())"
   ]
  },
  {
   "cell_type": "code",
   "execution_count": 23,
   "metadata": {},
   "outputs": [
    {
     "name": "stdout",
     "output_type": "stream",
     "text": [
      "0.8203592814371258\n"
     ]
    }
   ],
   "source": [
    "from sklearn.metrics import accuracy_score\n",
    "print(accuracy_score(y_test, y_pred))"
   ]
  },
  {
   "cell_type": "code",
   "execution_count": 30,
   "metadata": {},
   "outputs": [
    {
     "data": {
      "text/plain": [
       "array(['neg'], dtype='<U3')"
      ]
     },
     "execution_count": 30,
     "metadata": {},
     "output_type": "execute_result"
    }
   ],
   "source": [
    "test = \"i will kill myself\"\n",
    "test = vectorizer.transform([test])\n",
    "test = test\n",
    "log_model.predict(test)\n"
   ]
  },
  {
   "cell_type": "code",
   "execution_count": null,
   "metadata": {},
   "outputs": [],
   "source": []
  }
 ],
 "metadata": {
  "kernelspec": {
   "display_name": "Python 3",
   "language": "python",
   "name": "python3"
  },
  "language_info": {
   "codemirror_mode": {
    "name": "ipython",
    "version": 3
   },
   "file_extension": ".py",
   "mimetype": "text/x-python",
   "name": "python",
   "nbconvert_exporter": "python",
   "pygments_lexer": "ipython3",
   "version": "3.6.5"
  }
 },
 "nbformat": 4,
 "nbformat_minor": 2
}
